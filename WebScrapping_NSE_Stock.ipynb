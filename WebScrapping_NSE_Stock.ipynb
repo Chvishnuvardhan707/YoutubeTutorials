{
 "cells": [
  {
   "cell_type": "code",
   "execution_count": 79,
   "metadata": {},
   "outputs": [],
   "source": [
    "import requests\n",
    "from bs4 import BeautifulSoup"
   ]
  },
  {
   "cell_type": "code",
   "execution_count": 81,
   "metadata": {},
   "outputs": [
    {
     "name": "stdout",
     "output_type": "stream",
     "text": [
      "ASIANPAINT\n"
     ]
    }
   ],
   "source": [
    "stockcode = \"ASIANPAINT\"\n",
    "print(stockcode)"
   ]
  },
  {
   "cell_type": "code",
   "execution_count": 82,
   "metadata": {},
   "outputs": [
    {
     "name": "stdout",
     "output_type": "stream",
     "text": [
      "<Response [200]>\n"
     ]
    }
   ],
   "source": [
    "stock_code = stock_code\n",
    "stock_url  = 'https://www.nseindia.com/live_market/dynaContent/live_watch/get_quote/GetQuote.jsp?symbol='+str(stockcode)\n",
    "response = requests.get(stock_url)\n",
    "print(response)"
   ]
  },
  {
   "cell_type": "code",
   "execution_count": 83,
   "metadata": {},
   "outputs": [],
   "source": [
    "soup = BeautifulSoup(response.text, 'html.parser')"
   ]
  },
  {
   "cell_type": "code",
   "execution_count": 84,
   "metadata": {},
   "outputs": [
    {
     "data": {
      "text/plain": [
       "list"
      ]
     },
     "execution_count": 84,
     "metadata": {},
     "output_type": "execute_result"
    }
   ],
   "source": [
    "data_array = soup.find(id='responseDiv').getText().strip().split(\":\")\n",
    "type (data_array)"
   ]
  },
  {
   "cell_type": "code",
   "execution_count": 85,
   "metadata": {},
   "outputs": [
    {
     "name": "stdout",
     "output_type": "stream",
     "text": [
      "['{\"tradedDate\"', '\"19JUL2019\",\"data\"', '[{\"pricebandupper\"', '\"1,523.40\",\"symbol\"', '\"ASIANPAINT\",\"applicableMargin\"', '\"12.50\",\"bcEndDate\"', '\"27-JUN-19\",\"totalSellQuantity\"', '\"-\",\"adhocMargin\"', '\"-\",\"companyName\"', '\"Asian Paints Limited\",\"marketType\"', '\"N\",\"exDate\"', '\"13-JUN-19\",\"bcStartDate\"', '\"15-JUN-19\",\"css_status_desc\"', '\"Listed\",\"dayHigh\"', '\"1,399.40\",\"basePrice\"', '\"1,384.95\",\"securityVar\"', '\"4.11\",\"pricebandlower\"', '\"1,246.50\",\"sellQuantity5\"', '\"-\",\"sellQuantity4\"', '\"-\",\"sellQuantity3\"', '\"-\",\"cm_adj_high_dt\"', '\"03-APR-19\",\"sellQuantity2\"', '\"-\",\"dayLow\"', '\"1,365.00\",\"sellQuantity1\"', '\"-\",\"quantityTraded\"', '\"8,42,552\",\"pChange\"', '\"-0.79\",\"totalTradedValue\"', '\"11,599.24\",\"deliveryToTradedQuantity\"', '\"42.81\",\"totalBuyQuantity\"', '\"40\",\"averagePrice\"', '\"1,376.68\",\"indexVar\"', '\"-\",\"cm_ffm\"', '\"61,722.17\",\"purpose\"', '\"DIVIDEND RS -7.65 PER SHARE\",\"buyPrice2\"', '\"-\",\"secDate\"', '\"19-Jul-2019 00', '00', '00\",\"buyPrice1\"', '\"1,369.10\",\"high52\"', '\"1,529.85\",\"previousClose\"', '\"1,384.95\",\"ndEndDate\"', '\"-\",\"low52\"', '\"1,118.00\",\"buyPrice4\"', '\"-\",\"buyPrice3\"', '\"-\",\"recordDate\"', '\"-\",\"deliveryQuantity\"', '\"3,60,732\",\"buyPrice5\"', '\"-\",\"priceBand\"', '\"No Band\",\"extremeLossMargin\"', '\"5.00\",\"cm_adj_low_dt\"', '\"23-OCT-18\",\"varMargin\"', '\"7.50\",\"sellPrice1\"', '\"-\",\"sellPrice2\"', '\"-\",\"totalTradedVolume\"', '\"8,42,552\",\"sellPrice3\"', '\"-\",\"sellPrice4\"', '\"-\",\"sellPrice5\"', '\"-\",\"change\"', '\"-11.00\",\"surv_indicator\"', '\"-\",\"ndStartDate\"', '\"-\",\"buyQuantity4\"', '\"-\",\"isExDateFlag\"', 'false,\"buyQuantity3\"', '\"-\",\"buyQuantity2\"', '\"-\",\"buyQuantity1\"', '\"40\",\"series\"', '\"EQ\",\"faceValue\"', '\"1.00\",\"buyQuantity5\"', '\"-\",\"closePrice\"', '\"1,369.10\",\"open\"', '\"1,390.10\",\"isinCode\"', '\"INE021A01026\",\"lastPrice\"', '\"1,373.95\"}],\"optLink\"', '\"\\\\/marketinfo\\\\/sym_map\\\\/symbolMapping.jsp?symbol=ASIANPAINT&instrument;=-&date;=-&segmentLink;=17&symbolCount;=2\",\"otherSeries\"', '[\"EQ\"],\"futLink\"', '\"\\\\/live_market\\\\/dynaContent\\\\/live_watch\\\\/get_quote\\\\/GetQuoteFO.jsp?underlying=ASIANPAINT&instrument;=FUTSTK&expiry;=25JUL2019&type;=-&strike;=-\",\"lastUpdateTime\"', '\"19-JUL-2019 16', '00', '00\"}']\n"
     ]
    }
   ],
   "source": [
    "print(data_array)"
   ]
  },
  {
   "cell_type": "code",
   "execution_count": 86,
   "metadata": {},
   "outputs": [
    {
     "name": "stdout",
     "output_type": "stream",
     "text": [
      "Index -> 72\n",
      "1,373.95\n"
     ]
    }
   ],
   "source": [
    "for item in data_array:\n",
    "    if 'lastPrice' in item:\n",
    "        index = data_array.index(item)+1\n",
    "        print(\"Index -> \"+ str(index))\n",
    "        latestPrice=data_array[index].split('\"')[1]\n",
    "        print(latestPrice)"
   ]
  },
  {
   "cell_type": "code",
   "execution_count": null,
   "metadata": {},
   "outputs": [],
   "source": []
  }
 ],
 "metadata": {
  "kernelspec": {
   "display_name": "Python 3",
   "language": "python",
   "name": "python3"
  },
  "language_info": {
   "codemirror_mode": {
    "name": "ipython",
    "version": 3
   },
   "file_extension": ".py",
   "mimetype": "text/x-python",
   "name": "python",
   "nbconvert_exporter": "python",
   "pygments_lexer": "ipython3",
   "version": "3.6.5"
  }
 },
 "nbformat": 4,
 "nbformat_minor": 2
}
